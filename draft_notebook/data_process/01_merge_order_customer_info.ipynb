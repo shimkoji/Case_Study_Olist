{
 "cells": [
  {
   "cell_type": "code",
   "execution_count": 1,
   "metadata": {},
   "outputs": [
    {
     "name": "stdout",
     "output_type": "stream",
     "text": [
      "CPU times: user 296 ms, sys: 99.4 ms, total: 395 ms\n",
      "Wall time: 655 ms\n"
     ]
    }
   ],
   "source": [
    "%%time\n",
    "%matplotlib inline\n",
    "%load_ext autoreload\n",
    "%autoreload 2\n",
    "\n",
    "import sys\n",
    "from dataclasses import dataclass\n",
    "from pathlib import Path\n",
    "\n",
    "import pandas as pd\n",
    "\n",
    "\n",
    "@dataclass\n",
    "class Config:\n",
    "    project_dir: Path = Path(\"../../\")\n",
    "    model_dir: Path = project_dir / \"models\"\n",
    "    outputs_dir: Path = project_dir / \"outputs\"\n",
    "    data_dir: Path = project_dir / \"data\"\n",
    "    raw_dir: Path = data_dir / \"raw\"\n",
    "    interim_dir: Path = data_dir / \"interim\"\n",
    "    processed_dir: Path = data_dir / \"processed\"\n",
    "\n",
    "\n",
    "config = Config()\n",
    "sys.path.append(str(config.project_dir.resolve()))"
   ]
  },
  {
   "cell_type": "code",
   "execution_count": 2,
   "metadata": {},
   "outputs": [],
   "source": [
    "# raw\n",
    "df_customers = pd.read_csv(config.raw_dir / \"olist_customers_dataset.csv\")\n",
    "df_orders = pd.read_csv(config.raw_dir / \"olist_orders_dataset.csv\")"
   ]
  },
  {
   "cell_type": "code",
   "execution_count": 3,
   "metadata": {},
   "outputs": [],
   "source": [
    "# 日付カラムをdatetime型に変換\n",
    "date_columns = [\n",
    "    \"order_purchase_timestamp\",\n",
    "    \"order_approved_at\",\n",
    "    \"order_delivered_carrier_date\",\n",
    "    \"order_delivered_customer_date\",\n",
    "    \"order_estimated_delivery_date\",\n",
    "]\n",
    "\n",
    "# 全ての日付カラムをTimestamp型に統一\n",
    "for col in date_columns:\n",
    "    df_orders[col] = pd.to_datetime(df_orders[col])\n",
    "\n",
    "# 月情報の抽出\n",
    "df_orders[\"order_purchase_month\"] = df_orders[\"order_purchase_timestamp\"].dt.to_period(\n",
    "    \"M\"\n",
    ")\n",
    "df_orders[\"order_purchase_date\"] = df_orders[\"order_purchase_timestamp\"].dt.to_period(\n",
    "    \"D\"\n",
    ")\n",
    "df_orders[\"order_purchase_weekday\"] = df_orders[\n",
    "    \"order_purchase_timestamp\"\n",
    "].dt.day_name()\n",
    "\n",
    "df_orders[\"order_approved_month\"] = df_orders[\"order_approved_at\"].dt.to_period(\"M\")\n",
    "df_orders[\"order_approved_date\"] = df_orders[\"order_approved_at\"].dt.to_period(\"D\")\n",
    "df_orders[\"order_approved_weekday\"] = df_orders[\"order_approved_at\"].dt.day_name()\n",
    "df_orders[\"order_delivered_carrier_month\"] = df_orders[\n",
    "    \"order_delivered_carrier_date\"\n",
    "].dt.to_period(\"M\")\n",
    "df_orders[\"order_delivered_carrier_weekday\"] = df_orders[\n",
    "    \"order_delivered_carrier_date\"\n",
    "].dt.day_name()\n",
    "df_orders[\"order_delivered_customer_month\"] = df_orders[\n",
    "    \"order_delivered_customer_date\"\n",
    "].dt.to_period(\"M\")\n",
    "df_orders[\"order_delivered_customer_weekday\"] = df_orders[\n",
    "    \"order_delivered_customer_date\"\n",
    "].dt.day_name()\n",
    "df_orders[\"order_estimated_delivery_month\"] = df_orders[\n",
    "    \"order_estimated_delivery_date\"\n",
    "].dt.to_period(\"M\")\n",
    "df_orders[\"order_estimated_delivery_weekday\"] = df_orders[\n",
    "    \"order_estimated_delivery_date\"\n",
    "].dt.day_name()\n",
    "\n",
    "# 期間の計算\n",
    "df_orders[\"approved_span\"] = (\n",
    "    df_orders[\"order_approved_at\"] - df_orders[\"order_purchase_timestamp\"]\n",
    ")\n",
    "df_orders[\"estimated_delivery_span\"] = (\n",
    "    df_orders[\"order_estimated_delivery_date\"] - df_orders[\"order_purchase_timestamp\"]\n",
    ")\n",
    "df_orders[\"order_delivered_carrier_date_span_from_purchase\"] = (\n",
    "    df_orders[\"order_delivered_carrier_date\"] - df_orders[\"order_purchase_timestamp\"]\n",
    ")\n",
    "df_orders[\"order_delivered_customer_date_span_from_purchase\"] = (\n",
    "    df_orders[\"order_delivered_customer_date\"] - df_orders[\"order_purchase_timestamp\"]\n",
    ")\n",
    "df_orders[\"order_delivered_customer_date_span_from_delivery_carrier\"] = (\n",
    "    df_orders[\"order_delivered_customer_date\"]\n",
    "    - df_orders[\"order_delivered_carrier_date\"]\n",
    ")\n",
    "# 配送遅延の判定\n",
    "df_orders[\"is_delivery_to_customers_delayed\"] = (\n",
    "    df_orders[\"order_delivered_customer_date\"]\n",
    "    > df_orders[\"order_estimated_delivery_date\"]\n",
    ")"
   ]
  },
  {
   "cell_type": "code",
   "execution_count": 4,
   "metadata": {},
   "outputs": [],
   "source": [
    "df_orders_customer_merged = pd.merge(\n",
    "    df_orders, df_customers, on=\"customer_id\", how=\"left\"\n",
    ")\n",
    "assert df_orders.shape[0] == df_orders_customer_merged.shape[0]"
   ]
  },
  {
   "cell_type": "code",
   "execution_count": 5,
   "metadata": {},
   "outputs": [],
   "source": [
    "df_orders_customer_merged.to_csv(\n",
    "    config.interim_dir / \"olist_orders_customer_merged.csv\", index=False\n",
    ")"
   ]
  },
  {
   "cell_type": "code",
   "execution_count": null,
   "metadata": {},
   "outputs": [],
   "source": []
  }
 ],
 "metadata": {
  "kernelspec": {
   "display_name": ".venv",
   "language": "python",
   "name": "python3"
  },
  "language_info": {
   "codemirror_mode": {
    "name": "ipython",
    "version": 3
   },
   "file_extension": ".py",
   "mimetype": "text/x-python",
   "name": "python",
   "nbconvert_exporter": "python",
   "pygments_lexer": "ipython3",
   "version": "3.11.10"
  }
 },
 "nbformat": 4,
 "nbformat_minor": 2
}
