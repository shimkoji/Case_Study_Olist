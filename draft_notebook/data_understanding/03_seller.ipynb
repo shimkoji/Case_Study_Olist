{
 "cells": [
  {
   "cell_type": "code",
   "execution_count": 1,
   "metadata": {},
   "outputs": [
    {
     "name": "stdout",
     "output_type": "stream",
     "text": [
      "CPU times: user 250 ms, sys: 83 ms, total: 333 ms\n",
      "Wall time: 578 ms\n"
     ]
    }
   ],
   "source": [
    "%%time\n",
    "%matplotlib inline\n",
    "%load_ext autoreload\n",
    "%autoreload 2\n",
    "\n",
    "import sys\n",
    "from dataclasses import dataclass\n",
    "from pathlib import Path\n",
    "\n",
    "import pandas as pd\n",
    "\n",
    "\n",
    "@dataclass\n",
    "class Config:\n",
    "    project_dir: Path = Path(\"../../\")\n",
    "    model_dir: Path = project_dir / \"models\"\n",
    "    outputs_dir: Path = project_dir / \"outputs\"\n",
    "    data_dir: Path = project_dir / \"data\"\n",
    "    raw_dir: Path = data_dir / \"raw\"\n",
    "    interim_dir: Path = data_dir / \"interim\"\n",
    "    processed_dir: Path = data_dir / \"processed\"\n",
    "\n",
    "\n",
    "config = Config()\n",
    "sys.path.append(str(config.project_dir.resolve()))"
   ]
  },
  {
   "cell_type": "code",
   "execution_count": 2,
   "metadata": {},
   "outputs": [],
   "source": [
    "df_sellers = pd.read_csv(config.raw_dir / \"olist_sellers_dataset.csv\")"
   ]
  },
  {
   "cell_type": "code",
   "execution_count": 4,
   "metadata": {},
   "outputs": [
    {
     "name": "stdout",
     "output_type": "stream",
     "text": [
      "(3095, 4)\n"
     ]
    },
    {
     "data": {
      "text/plain": [
       "3095"
      ]
     },
     "execution_count": 4,
     "metadata": {},
     "output_type": "execute_result"
    }
   ],
   "source": [
    "print(df_sellers.shape)\n",
    "df_sellers[\"seller_id\"].nunique()"
   ]
  }
 ],
 "metadata": {
  "kernelspec": {
   "display_name": ".venv",
   "language": "python",
   "name": "python3"
  },
  "language_info": {
   "codemirror_mode": {
    "name": "ipython",
    "version": 3
   },
   "file_extension": ".py",
   "mimetype": "text/x-python",
   "name": "python",
   "nbconvert_exporter": "python",
   "pygments_lexer": "ipython3",
   "version": "3.11.10"
  }
 },
 "nbformat": 4,
 "nbformat_minor": 2
}
