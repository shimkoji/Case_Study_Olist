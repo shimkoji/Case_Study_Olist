{
 "cells": [
  {
   "cell_type": "code",
   "execution_count": 1,
   "metadata": {},
   "outputs": [
    {
     "name": "stdout",
     "output_type": "stream",
     "text": [
      "CPU times: user 278 ms, sys: 81.6 ms, total: 360 ms\n",
      "Wall time: 613 ms\n"
     ]
    },
    {
     "data": {
      "text/plain": [
       "False"
      ]
     },
     "execution_count": 1,
     "metadata": {},
     "output_type": "execute_result"
    }
   ],
   "source": [
    "%%time\n",
    "%matplotlib inline\n",
    "%load_ext autoreload\n",
    "%autoreload 2\n",
    "\n",
    "import sys\n",
    "from dataclasses import dataclass\n",
    "from pathlib import Path\n",
    "\n",
    "import pandas as pd\n",
    "from dotenv import load_dotenv\n",
    "\n",
    "\n",
    "@dataclass\n",
    "class Config:\n",
    "    project_dir: Path = Path(\"../../\")\n",
    "    model_dir: Path = project_dir / \"models\"\n",
    "    outputs_dir: Path = project_dir / \"outputs\"\n",
    "    results_dir: Path = project_dir / \"results\"\n",
    "    results_agg_dir: Path = results_dir / \"agg\"\n",
    "    results_figs_dir: Path = results_dir / \"figs\"\n",
    "    data_dir: Path = project_dir / \"data\"\n",
    "    raw_dir: Path = data_dir / \"raw\"\n",
    "    interim_dir: Path = data_dir / \"interim\"\n",
    "    processed_dir: Path = data_dir / \"processed\"\n",
    "\n",
    "\n",
    "config = Config()\n",
    "sys.path.append(str(config.project_dir.resolve()))\n",
    "load_dotenv()"
   ]
  },
  {
   "cell_type": "code",
   "execution_count": 2,
   "metadata": {},
   "outputs": [
    {
     "name": "stdout",
     "output_type": "stream",
     "text": [
      "df_reviews_unique.shape: (98410, 5)\n",
      "df_review_no_null.shape: (40650, 5)\n"
     ]
    }
   ],
   "source": [
    "df_reviews = pd.read_csv(\n",
    "    config.interim_dir\n",
    "    / \"olist_order_reviews_translated_label_review_categories_merged.csv\",\n",
    ")\n",
    "\n",
    "df_orders = pd.read_csv(config.interim_dir / \"olist_orders_customer_merged.csv\")\n",
    "df_item_products = pd.read_csv(\n",
    "    config.interim_dir / \"olist_item_product_seller_merged.csv\"\n",
    ")\n",
    "df_orders_item_products_merged = pd.merge(\n",
    "    df_orders, df_item_products, on=\"order_id\", how=\"left\"\n",
    ")\n",
    "assert (\n",
    "    df_orders_item_products_merged[\"order_id\"].nunique()\n",
    "    == df_orders[\"order_id\"].nunique()\n",
    ")\n",
    "df_orders_item_products_review_merged = pd.merge(\n",
    "    df_orders_item_products_merged,\n",
    "    df_reviews,\n",
    "    on=\"order_id\",\n",
    "    how=\"left\",\n",
    ")\n",
    "assert (\n",
    "    df_orders_item_products_review_merged[\"order_id\"].nunique()\n",
    "    == df_orders_item_products_merged[\"order_id\"].nunique()\n",
    ")\n",
    "df_reviews_unique = df_reviews[\n",
    "    [\n",
    "        \"review_id\",\n",
    "        \"review_comment_message_en\",\n",
    "        \"label_score\",\n",
    "        \"label_translated\",\n",
    "        \"modified_review_score\",\n",
    "    ]\n",
    "].drop_duplicates()\n",
    "df_review_no_null = (\n",
    "    df_reviews_unique.dropna(subset=[\"review_comment_message_en\"])\n",
    "    .reset_index()\n",
    "    .drop(columns=[\"index\"])\n",
    ")\n",
    "\n",
    "print(f\"df_reviews_unique.shape: {df_reviews_unique.shape}\")\n",
    "print(f\"df_review_no_null.shape: {df_review_no_null.shape}\")\n"
   ]
  },
  {
   "cell_type": "markdown",
   "metadata": {},
   "source": [
    "## scoring X sentiment"
   ]
  },
  {
   "cell_type": "code",
   "execution_count": 3,
   "metadata": {},
   "outputs": [
    {
     "data": {
      "text/html": [
       "<div>\n",
       "<style scoped>\n",
       "    .dataframe tbody tr th:only-of-type {\n",
       "        vertical-align: middle;\n",
       "    }\n",
       "\n",
       "    .dataframe tbody tr th {\n",
       "        vertical-align: top;\n",
       "    }\n",
       "\n",
       "    .dataframe thead th {\n",
       "        text-align: right;\n",
       "    }\n",
       "</style>\n",
       "<table border=\"1\" class=\"dataframe\">\n",
       "  <thead>\n",
       "    <tr style=\"text-align: right;\">\n",
       "      <th></th>\n",
       "      <th>modified_review_score</th>\n",
       "      <th>label_numeric</th>\n",
       "    </tr>\n",
       "  </thead>\n",
       "  <tbody>\n",
       "    <tr>\n",
       "      <th>modified_review_score</th>\n",
       "      <td>1.000000</td>\n",
       "      <td>0.904295</td>\n",
       "    </tr>\n",
       "    <tr>\n",
       "      <th>label_numeric</th>\n",
       "      <td>0.904295</td>\n",
       "      <td>1.000000</td>\n",
       "    </tr>\n",
       "  </tbody>\n",
       "</table>\n",
       "</div>"
      ],
      "text/plain": [
       "                       modified_review_score  label_numeric\n",
       "modified_review_score               1.000000       0.904295\n",
       "label_numeric                       0.904295       1.000000"
      ]
     },
     "metadata": {},
     "output_type": "display_data"
    }
   ],
   "source": [
    "label_map = {\n",
    "    \"Positive\": 1,\n",
    "    \"Negative\": -1,\n",
    "    \"Neutral\": 0,\n",
    "    \"not_clear\": None,\n",
    "}\n",
    "df_reviews_unique[\"label_numeric\"] = df_reviews_unique[\"label_translated\"].map(\n",
    "    label_map\n",
    ")\n",
    "correlation = df_reviews_unique[[\"modified_review_score\", \"label_numeric\"]].corr()\n",
    "display(correlation)"
   ]
  },
  {
   "cell_type": "markdown",
   "metadata": {},
   "source": [
    "## Review Scoring"
   ]
  },
  {
   "cell_type": "code",
   "execution_count": 4,
   "metadata": {},
   "outputs": [
    {
     "name": "stdout",
     "output_type": "stream",
     "text": [
      "df_reviews_unique\n"
     ]
    },
    {
     "data": {
      "text/plain": [
       "modified_review_score\n",
       "1.0    0.115710\n",
       "2.0    0.034763\n",
       "3.0    0.082278\n",
       "4.0    0.190021\n",
       "5.0    0.577228\n",
       "Name: count, dtype: float64"
      ]
     },
     "metadata": {},
     "output_type": "display_data"
    },
    {
     "name": "stdout",
     "output_type": "stream",
     "text": [
      "df_review_no_null\n"
     ]
    },
    {
     "data": {
      "text/plain": [
       "modified_review_score\n",
       "1.0    0.215129\n",
       "2.0    0.059656\n",
       "3.0    0.086790\n",
       "4.0    0.138499\n",
       "5.0    0.499926\n",
       "Name: count, dtype: float64"
      ]
     },
     "metadata": {},
     "output_type": "display_data"
    }
   ],
   "source": [
    "print(\"df_reviews_unique\")\n",
    "display(\n",
    "    (\n",
    "        df_reviews_unique[\"modified_review_score\"].value_counts()\n",
    "        / df_reviews_unique[\"modified_review_score\"].count()\n",
    "    ).sort_index()\n",
    ")\n",
    "print(\"df_review_no_null\")\n",
    "display(\n",
    "    (\n",
    "        df_review_no_null[\"modified_review_score\"].value_counts()\n",
    "        / df_review_no_null[\"modified_review_score\"].count()\n",
    "    ).sort_index()\n",
    ")"
   ]
  },
  {
   "cell_type": "code",
   "execution_count": 5,
   "metadata": {},
   "outputs": [
    {
     "data": {
      "text/plain": [
       "label_translated\n",
       "Negative     1.407134\n",
       "Neutral      3.376931\n",
       "Positive     4.759140\n",
       "not_clear    3.211447\n",
       "Name: modified_review_score, dtype: float64"
      ]
     },
     "execution_count": 5,
     "metadata": {},
     "output_type": "execute_result"
    }
   ],
   "source": [
    "df_review_no_null.groupby(\"label_translated\")[\"modified_review_score\"].mean()"
   ]
  },
  {
   "cell_type": "markdown",
   "metadata": {},
   "source": [
    "## Sentiment Analysis "
   ]
  },
  {
   "cell_type": "code",
   "execution_count": 6,
   "metadata": {},
   "outputs": [
    {
     "name": "stdout",
     "output_type": "stream",
     "text": [
      "First Half\n"
     ]
    },
    {
     "data": {
      "text/plain": [
       "label_translated\n",
       "Positive     0.522057\n",
       "Negative     0.183185\n",
       "Neutral      0.047873\n",
       "not_clear    0.246884\n",
       "Name: count, dtype: float64"
      ]
     },
     "metadata": {},
     "output_type": "display_data"
    },
    {
     "name": "stdout",
     "output_type": "stream",
     "text": [
      "Second Half\n"
     ]
    },
    {
     "data": {
      "text/plain": [
       "label_translated\n",
       "Positive     0.461719\n",
       "Negative     0.216896\n",
       "Neutral      0.058551\n",
       "not_clear    0.262833\n",
       "Name: count, dtype: float64"
      ]
     },
     "metadata": {},
     "output_type": "display_data"
    }
   ],
   "source": [
    "fh_df = df_orders_item_products_review_merged.query(\n",
    "    \"order_purchase_month >= '2017-02' & order_purchase_month <= '2017-10'\"\n",
    ")\n",
    "sh_df = df_orders_item_products_review_merged.query(\n",
    "    \"order_purchase_month >= '2017-12' & order_purchase_month <= '2018-08'\"\n",
    ")\n",
    "custom_order = [\"Positive\", \"Negative\", \"Neutral\", \"not_clear\"]\n",
    "print(\"First Half\")\n",
    "display(\n",
    "    (\n",
    "        fh_df[\"label_translated\"].value_counts()\n",
    "        / fh_df[\"label_translated\"].value_counts().sum()\n",
    "    ).reindex(custom_order)\n",
    ")\n",
    "print(\"Second Half\")\n",
    "display(\n",
    "    (\n",
    "        sh_df[\"label_translated\"].value_counts()\n",
    "        / sh_df[\"label_translated\"].value_counts().sum()\n",
    "    ).reindex(custom_order)\n",
    ")"
   ]
  },
  {
   "cell_type": "code",
   "execution_count": 7,
   "metadata": {},
   "outputs": [
    {
     "name": "stdout",
     "output_type": "stream",
     "text": [
      "-----watches_gifts-----\n",
      "First Half\n"
     ]
    },
    {
     "data": {
      "text/plain": [
       "label_translated\n",
       "Positive     0.578447\n",
       "Negative     0.166403\n",
       "Neutral      0.022187\n",
       "not_clear    0.232964\n",
       "Name: count, dtype: float64"
      ]
     },
     "metadata": {},
     "output_type": "display_data"
    },
    {
     "name": "stdout",
     "output_type": "stream",
     "text": [
      "Second Half\n"
     ]
    },
    {
     "data": {
      "text/plain": [
       "label_translated\n",
       "Positive     0.488360\n",
       "Negative     0.211695\n",
       "Neutral      0.051976\n",
       "not_clear    0.247970\n",
       "Name: count, dtype: float64"
      ]
     },
     "metadata": {},
     "output_type": "display_data"
    },
    {
     "name": "stdout",
     "output_type": "stream",
     "text": [
      "-----cool_stuff-----\n",
      "First Half\n"
     ]
    },
    {
     "data": {
      "text/plain": [
       "label_translated\n",
       "Positive     0.621127\n",
       "Negative     0.125352\n",
       "Neutral      0.038028\n",
       "not_clear    0.215493\n",
       "Name: count, dtype: float64"
      ]
     },
     "metadata": {},
     "output_type": "display_data"
    },
    {
     "name": "stdout",
     "output_type": "stream",
     "text": [
      "Second Half\n"
     ]
    },
    {
     "data": {
      "text/plain": [
       "label_translated\n",
       "Positive     0.506224\n",
       "Negative     0.208852\n",
       "Neutral      0.059474\n",
       "not_clear    0.225450\n",
       "Name: count, dtype: float64"
      ]
     },
     "metadata": {},
     "output_type": "display_data"
    },
    {
     "name": "stdout",
     "output_type": "stream",
     "text": [
      "-----toys-----\n",
      "First Half\n"
     ]
    },
    {
     "data": {
      "text/plain": [
       "label_translated\n",
       "Positive     0.594059\n",
       "Negative     0.141914\n",
       "Neutral      0.051155\n",
       "not_clear    0.212871\n",
       "Name: count, dtype: float64"
      ]
     },
     "metadata": {},
     "output_type": "display_data"
    },
    {
     "name": "stdout",
     "output_type": "stream",
     "text": [
      "Second Half\n"
     ]
    },
    {
     "data": {
      "text/plain": [
       "label_translated\n",
       "Positive     0.490642\n",
       "Negative     0.231283\n",
       "Neutral      0.044118\n",
       "not_clear    0.233957\n",
       "Name: count, dtype: float64"
      ]
     },
     "metadata": {},
     "output_type": "display_data"
    },
    {
     "name": "stdout",
     "output_type": "stream",
     "text": [
      "-----sports_leisure-----\n",
      "First Half\n"
     ]
    },
    {
     "data": {
      "text/plain": [
       "label_translated\n",
       "Positive     0.504977\n",
       "Negative     0.166516\n",
       "Neutral      0.052489\n",
       "not_clear    0.276018\n",
       "Name: count, dtype: float64"
      ]
     },
     "metadata": {},
     "output_type": "display_data"
    },
    {
     "name": "stdout",
     "output_type": "stream",
     "text": [
      "Second Half\n"
     ]
    },
    {
     "data": {
      "text/plain": [
       "label_translated\n",
       "Positive     0.460941\n",
       "Negative     0.203299\n",
       "Neutral      0.059680\n",
       "not_clear    0.276080\n",
       "Name: count, dtype: float64"
      ]
     },
     "metadata": {},
     "output_type": "display_data"
    },
    {
     "name": "stdout",
     "output_type": "stream",
     "text": [
      "-----bed_bath_table-----\n",
      "First Half\n"
     ]
    },
    {
     "data": {
      "text/plain": [
       "label_translated\n",
       "Positive     0.539664\n",
       "Negative     0.168500\n",
       "Neutral      0.052113\n",
       "not_clear    0.239722\n",
       "Name: count, dtype: float64"
      ]
     },
     "metadata": {},
     "output_type": "display_data"
    },
    {
     "name": "stdout",
     "output_type": "stream",
     "text": [
      "Second Half\n"
     ]
    },
    {
     "data": {
      "text/plain": [
       "label_translated\n",
       "Positive     0.457835\n",
       "Negative     0.211155\n",
       "Neutral      0.058101\n",
       "not_clear    0.272908\n",
       "Name: count, dtype: float64"
      ]
     },
     "metadata": {},
     "output_type": "display_data"
    },
    {
     "name": "stdout",
     "output_type": "stream",
     "text": [
      "-----computers_accessories-----\n",
      "First Half\n"
     ]
    },
    {
     "data": {
      "text/plain": [
       "label_translated\n",
       "Positive     0.454741\n",
       "Negative     0.191810\n",
       "Neutral      0.077586\n",
       "not_clear    0.275862\n",
       "Name: count, dtype: float64"
      ]
     },
     "metadata": {},
     "output_type": "display_data"
    },
    {
     "name": "stdout",
     "output_type": "stream",
     "text": [
      "Second Half\n"
     ]
    },
    {
     "data": {
      "text/plain": [
       "label_translated\n",
       "Positive     0.365193\n",
       "Negative     0.272943\n",
       "Neutral      0.067998\n",
       "not_clear    0.293866\n",
       "Name: count, dtype: float64"
      ]
     },
     "metadata": {},
     "output_type": "display_data"
    }
   ],
   "source": [
    "low_growth_categories = [\n",
    "    \"watches_gifts\",\n",
    "    \"cool_stuff\",\n",
    "    \"toys\",\n",
    "    \"sports_leisure\",\n",
    "    \"bed_bath_table\",\n",
    "    \"computers_accessories\",\n",
    "]\n",
    "for category in low_growth_categories:\n",
    "    tmp = df_orders_item_products_review_merged.query(\n",
    "        \"order_purchase_month >= '2017-02' & order_purchase_month <= '2017-10'\"\n",
    "    ).query(\"product_category_name_english in @category\")\n",
    "\n",
    "    tmp2 = df_orders_item_products_review_merged.query(\n",
    "        \"order_purchase_month >= '2017-12' & order_purchase_month <= '2018-08'\"\n",
    "    ).query(\"product_category_name_english in @category\")\n",
    "    print(f\"-----{category}-----\")\n",
    "    print(\"First Half\")\n",
    "    display(\n",
    "        (\n",
    "            tmp[\"label_translated\"].value_counts()\n",
    "            / tmp[\"label_translated\"].value_counts().sum()\n",
    "        ).reindex(custom_order)\n",
    "    )\n",
    "    print(\"Second Half\")\n",
    "    display(\n",
    "        (\n",
    "            tmp2[\"label_translated\"].value_counts()\n",
    "            / tmp2[\"label_translated\"].value_counts().sum()\n",
    "        ).reindex(custom_order)\n",
    "    )"
   ]
  }
 ],
 "metadata": {
  "kernelspec": {
   "display_name": ".venv",
   "language": "python",
   "name": "python3"
  },
  "language_info": {
   "codemirror_mode": {
    "name": "ipython",
    "version": 3
   },
   "file_extension": ".py",
   "mimetype": "text/x-python",
   "name": "python",
   "nbconvert_exporter": "python",
   "pygments_lexer": "ipython3",
   "version": "3.11.10"
  }
 },
 "nbformat": 4,
 "nbformat_minor": 2
}
