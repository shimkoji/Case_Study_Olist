{
 "cells": [
  {
   "cell_type": "code",
   "execution_count": 1,
   "metadata": {},
   "outputs": [
    {
     "name": "stdout",
     "output_type": "stream",
     "text": [
      "CPU times: user 270 ms, sys: 84.4 ms, total: 355 ms\n",
      "Wall time: 612 ms\n"
     ]
    }
   ],
   "source": [
    "%%time\n",
    "%matplotlib inline\n",
    "%load_ext autoreload\n",
    "%autoreload 2\n",
    "\n",
    "import sys\n",
    "from dataclasses import dataclass\n",
    "from pathlib import Path\n",
    "\n",
    "import pandas as pd\n",
    "\n",
    "\n",
    "@dataclass\n",
    "class Config:\n",
    "    project_dir: Path = Path(\"../../\")\n",
    "    model_dir: Path = project_dir / \"models\"\n",
    "    outputs_dir: Path = project_dir / \"outputs\"\n",
    "    results_dir: Path = project_dir / \"results\"\n",
    "    results_agg_dir: Path = results_dir / \"agg\"\n",
    "    results_figs_dir: Path = results_dir / \"figs\"\n",
    "    data_dir: Path = project_dir / \"data\"\n",
    "    raw_dir: Path = data_dir / \"raw\"\n",
    "    interim_dir: Path = data_dir / \"interim\"\n",
    "    processed_dir: Path = data_dir / \"processed\"\n",
    "\n",
    "\n",
    "config = Config()\n",
    "sys.path.append(str(config.project_dir.resolve()))"
   ]
  },
  {
   "cell_type": "code",
   "execution_count": 2,
   "metadata": {},
   "outputs": [
    {
     "name": "stdout",
     "output_type": "stream",
     "text": [
      "df_review_no_null.shape: (40818, 85)\n"
     ]
    }
   ],
   "source": [
    "df_order_info_details = pd.read_csv(config.processed_dir / \"order_info_details.csv\")\n",
    "df_reviews = pd.read_csv(\n",
    "    config.interim_dir\n",
    "    / \"olist_order_reviews_translated_label_review_categories_merged.csv\",\n",
    ")\n",
    "df_reviews_last = df_reviews.groupby(\"order_id\").last().reset_index()\n",
    "df_order_info_details_reviews_merged = pd.merge(\n",
    "    df_order_info_details, df_reviews_last, on=\"order_id\", how=\"left\"\n",
    ")\n",
    "assert df_order_info_details_reviews_merged.shape[0] == df_order_info_details.shape[0]\n",
    "\n",
    "df_review_no_null = df_order_info_details_reviews_merged.dropna(\n",
    "    subset=[\"review_comment_message_en\"]\n",
    ")\n",
    "print(f\"df_review_no_null.shape: {df_review_no_null.shape}\")\n"
   ]
  },
  {
   "cell_type": "markdown",
   "metadata": {},
   "source": [
    "1. 基本分析\n",
    "- 全体傾向として，多いクレーム種類は何か\n",
    "-  前半と後半で傾向ことなるのか？\n",
    "-  成長率が鈍化している種類に限定したらどう？\n",
    "2. 詳細分析"
   ]
  },
  {
   "cell_type": "markdown",
   "metadata": {},
   "source": [
    "## label_translated列とreview_categories_str_modified列の関係性"
   ]
  },
  {
   "cell_type": "code",
   "execution_count": 3,
   "metadata": {},
   "outputs": [
    {
     "name": "stdout",
     "output_type": "stream",
     "text": [
      "Praise in df_review_no_null: 20834\n",
      "Issue in df_review_no_null: 15603\n",
      "\n"
     ]
    },
    {
     "data": {
      "text/plain": [
       "label_translated\n",
       "Positive     20768\n",
       "not_clear     9783\n",
       "Negative      8184\n",
       "Neutral       2083\n",
       "Name: count, dtype: int64"
      ]
     },
     "execution_count": 3,
     "metadata": {},
     "output_type": "execute_result"
    }
   ],
   "source": [
    "praise_rows = df_review_no_null.query(\n",
    "    \"review_categories_str_modified.str.endswith('Praise')\"\n",
    ").shape[0]\n",
    "print(f\"Praise in df_review_no_null: {praise_rows}\")\n",
    "issue_rows = df_review_no_null.query(\n",
    "    \"review_categories_str_modified.str.endswith('Issue')\"\n",
    ").shape[0]\n",
    "print(f\"Issue in df_review_no_null: {issue_rows}\")\n",
    "print()\n",
    "df_review_no_null[\"label_translated\"].value_counts()"
   ]
  },
  {
   "cell_type": "code",
   "execution_count": 4,
   "metadata": {},
   "outputs": [
    {
     "name": "stdout",
     "output_type": "stream",
     "text": [
      "Praise\n"
     ]
    },
    {
     "data": {
      "text/plain": [
       "label_translated\n",
       "Positive     17760\n",
       "not_clear     2238\n",
       "Neutral        830\n",
       "Negative         6\n",
       "Name: count, dtype: int64"
      ]
     },
     "metadata": {},
     "output_type": "display_data"
    },
    {
     "name": "stdout",
     "output_type": "stream",
     "text": [
      "Issue\n"
     ]
    },
    {
     "data": {
      "text/plain": [
       "label_translated\n",
       "Negative     8037\n",
       "not_clear    5741\n",
       "Neutral       916\n",
       "Positive      909\n",
       "Name: count, dtype: int64"
      ]
     },
     "metadata": {},
     "output_type": "display_data"
    }
   ],
   "source": [
    "print(\"Praise\")\n",
    "display(\n",
    "    df_review_no_null.query(\"review_categories_str_modified.str.endswith('Praise')\")[\n",
    "        \"label_translated\"\n",
    "    ].value_counts()\n",
    ")\n",
    "print(\"Issue\")\n",
    "display(\n",
    "    df_review_no_null.query(\"review_categories_str_modified.str.endswith('Issue')\")[\n",
    "        \"label_translated\"\n",
    "    ].value_counts()\n",
    ")"
   ]
  },
  {
   "cell_type": "code",
   "execution_count": 5,
   "metadata": {},
   "outputs": [
    {
     "name": "stdout",
     "output_type": "stream",
     "text": [
      "Praise\n"
     ]
    },
    {
     "data": {
      "text/plain": [
       "modified_review_score\n",
       "5.0    16977\n",
       "4.0     3292\n",
       "3.0      524\n",
       "1.0       25\n",
       "2.0       16\n",
       "Name: count, dtype: int64"
      ]
     },
     "metadata": {},
     "output_type": "display_data"
    },
    {
     "name": "stdout",
     "output_type": "stream",
     "text": [
      "Issue\n"
     ]
    },
    {
     "data": {
      "text/plain": [
       "modified_review_score\n",
       "1.0    8456\n",
       "3.0    2595\n",
       "2.0    2323\n",
       "4.0    1411\n",
       "5.0     818\n",
       "Name: count, dtype: int64"
      ]
     },
     "metadata": {},
     "output_type": "display_data"
    }
   ],
   "source": [
    "print(\"Praise\")\n",
    "display(\n",
    "    df_review_no_null.query(\"review_categories_str_modified.str.endswith('Praise')\")[\n",
    "        \"modified_review_score\"\n",
    "    ].value_counts()\n",
    ")\n",
    "print(\"Issue\")\n",
    "display(\n",
    "    df_review_no_null.query(\"review_categories_str_modified.str.endswith('Issue')\")[\n",
    "        \"modified_review_score\"\n",
    "    ].value_counts()\n",
    ")"
   ]
  },
  {
   "cell_type": "markdown",
   "metadata": {},
   "source": [
    "※ review_categories_str_modified列がIssueでも，label_translated列がnot_clearのやつは文章が長くてむずかったと考えられる"
   ]
  },
  {
   "cell_type": "markdown",
   "metadata": {},
   "source": [
    "## 1.基本分析\n"
   ]
  },
  {
   "cell_type": "code",
   "execution_count": 6,
   "metadata": {},
   "outputs": [],
   "source": [
    "from src.analyzer.agg_utils import agg_review_category_ratio_by_category_name"
   ]
  },
  {
   "cell_type": "markdown",
   "metadata": {},
   "source": [
    "### 1.1. レビュー全体"
   ]
  },
  {
   "cell_type": "markdown",
   "metadata": {},
   "source": [
    "- 全体傾向として，多いレビュー種類は何か"
   ]
  },
  {
   "cell_type": "markdown",
   "metadata": {},
   "source": [
    "#### 全体"
   ]
  },
  {
   "cell_type": "code",
   "execution_count": 7,
   "metadata": {},
   "outputs": [
    {
     "name": "stdout",
     "output_type": "stream",
     "text": [
      "Praise Review num:20766\n",
      "Praise Issue num:15471\n",
      "Issue ratio:0.38\n",
      "全体\n",
      "                         category  count  percentage\n",
      "0                 Delivery_Praise   9445        0.23\n",
      "1                  Delivery_Issue   6552        0.16\n",
      "2                  Unclassifiable   3856        0.09\n",
      "3          Product Quality_Praise   2956        0.07\n",
      "4                  Product_Praise   2332        0.06\n",
      "5          Product Mismatch_Issue   1675        0.04\n",
      "6           Product Quality_Issue   1090        0.03\n",
      "7     Product Satisfaction_Praise    606        0.01\n",
      "8                  Service_Praise    604        0.01\n",
      "9                  Quality_Praise    572        0.01\n",
      "10        Customer Service_Praise    551        0.01\n",
      "11         Customer Service_Issue    450        0.01\n",
      "12           Product Damage_Issue    293        0.01\n",
      "13                    Order_Issue    290        0.01\n",
      "14           Product Defect_Issue    289        0.01\n",
      "15                         Praise    276        0.01\n",
      "16                Packaging_Issue    275        0.01\n",
      "17                  Product_Issue    274        0.01\n",
      "18        Order Fulfillment_Issue    230        0.01\n",
      "19  Product Recommendation_Praise    214        0.01\n",
      "praise\n",
      "                         category  count  percentage\n",
      "0                 Delivery_Praise   9445        0.45\n",
      "1          Product Quality_Praise   2956        0.14\n",
      "2                  Product_Praise   2332        0.11\n",
      "3     Product Satisfaction_Praise    606        0.03\n",
      "4                  Service_Praise    604        0.03\n",
      "5                  Quality_Praise    572        0.03\n",
      "6         Customer Service_Praise    551        0.03\n",
      "7                          Praise    276        0.01\n",
      "8   Product Recommendation_Praise    214        0.01\n",
      "9             Satisfaction_Praise    181        0.01\n",
      "10                   Store_Praise    178        0.01\n",
      "11          Recommendation_Praise    156        0.01\n",
      "12             Performance_Praise    138        0.01\n",
      "13     Product Performance_Praise    137        0.01\n",
      "14    Overall Satisfaction_Praise    107        0.01\n",
      "15                  Seller_Praise    103        0.00\n",
      "16               Packaging_Praise     97        0.00\n",
      "17     Shopping Experience_Praise     85        0.00\n",
      "18    Store Recommendation_Praise     81        0.00\n",
      "19        Customer Loyalty_Praise     80        0.00\n",
      "issue\n",
      "                      category  count  percentage\n",
      "0               Delivery_Issue   6552        0.42\n",
      "1       Product Mismatch_Issue   1675        0.11\n",
      "2        Product Quality_Issue   1090        0.07\n",
      "3       Customer Service_Issue    450        0.03\n",
      "4         Product Damage_Issue    293        0.02\n",
      "5                  Order_Issue    290        0.02\n",
      "6         Product Defect_Issue    289        0.02\n",
      "7              Packaging_Issue    275        0.02\n",
      "8                Product_Issue    274        0.02\n",
      "9      Order Fulfillment_Issue    230        0.01\n",
      "10     Product Condition_Issue    187        0.01\n",
      "11          Product Size_Issue    174        0.01\n",
      "12               Quality_Issue    168        0.01\n",
      "13    Order Cancellation_Issue    121        0.01\n",
      "14         Shipping Cost_Issue    121        0.01\n",
      "15              Shipping_Issue    115        0.01\n",
      "16  Product Authenticity_Issue    106        0.01\n",
      "17                Refund_Issue    104        0.01\n",
      "18      Order Incomplete_Issue    103        0.01\n",
      "19   Product Performance_Issue     96        0.01\n"
     ]
    }
   ],
   "source": [
    "agg_dict = agg_review_category_ratio_by_category_name(\n",
    "    df_review_no_null,\n",
    "    df_review_no_null[\"product_category_name_english\"].unique().tolist(),\n",
    ")"
   ]
  },
  {
   "cell_type": "code",
   "execution_count": 8,
   "metadata": {},
   "outputs": [],
   "source": [
    "agg_dict[\"all\"].to_csv(config.results_agg_dir / \"category_all.csv\", index=False)\n",
    "agg_dict[\"praise\"].to_csv(config.results_agg_dir / \"category_praise.csv\", index=False)\n",
    "agg_dict[\"issue\"].to_csv(config.results_agg_dir / \"category_issue.csv\", index=False)"
   ]
  },
  {
   "cell_type": "markdown",
   "metadata": {},
   "source": [
    "### 1.2. 前半と後半で傾向ことなるのか？"
   ]
  },
  {
   "cell_type": "markdown",
   "metadata": {},
   "source": [
    "#### 前半"
   ]
  },
  {
   "cell_type": "code",
   "execution_count": 9,
   "metadata": {},
   "outputs": [],
   "source": [
    "fh_df_reviews_no_null = df_review_no_null.query(\n",
    "    \"order_purchase_date >= '2017-02' & order_purchase_date <= '2017-10'\"\n",
    ")\n",
    "sh_df_reviews_no_null = df_review_no_null.query(\n",
    "    \"order_purchase_date >= '2017-12' & order_purchase_date <= '2018-08'\"\n",
    ")"
   ]
  },
  {
   "cell_type": "code",
   "execution_count": 10,
   "metadata": {},
   "outputs": [
    {
     "name": "stdout",
     "output_type": "stream",
     "text": [
      "Praise Review num:6053\n",
      "Praise Issue num:3722\n",
      "Issue ratio:0.34\n",
      "全体\n",
      "                         category  count  percentage\n",
      "0                 Delivery_Praise   2710        0.25\n",
      "1                  Delivery_Issue   1418        0.13\n",
      "2                  Unclassifiable   1095        0.10\n",
      "3          Product Quality_Praise    838        0.08\n",
      "4                  Product_Praise    713        0.06\n",
      "5          Product Mismatch_Issue    424        0.04\n",
      "6           Product Quality_Issue    319        0.03\n",
      "7     Product Satisfaction_Praise    176        0.02\n",
      "8                  Service_Praise    169        0.02\n",
      "9                  Quality_Praise    166        0.02\n",
      "10        Customer Service_Praise    160        0.01\n",
      "11                         Praise     94        0.01\n",
      "12         Customer Service_Issue     93        0.01\n",
      "13           Product Damage_Issue     88        0.01\n",
      "14           Product Defect_Issue     81        0.01\n",
      "15                   Store_Praise     71        0.01\n",
      "16                Packaging_Issue     67        0.01\n",
      "17                  Product_Issue     66        0.01\n",
      "18  Product Recommendation_Praise     65        0.01\n",
      "19        Product Condition_Issue     61        0.01\n",
      "praise\n",
      "                         category  count  percentage\n",
      "0                 Delivery_Praise   2710        0.45\n",
      "1          Product Quality_Praise    838        0.14\n",
      "2                  Product_Praise    713        0.12\n",
      "3     Product Satisfaction_Praise    176        0.03\n",
      "4                  Service_Praise    169        0.03\n",
      "5                  Quality_Praise    166        0.03\n",
      "6         Customer Service_Praise    160        0.03\n",
      "7                          Praise     94        0.02\n",
      "8                    Store_Praise     71        0.01\n",
      "9   Product Recommendation_Praise     65        0.01\n",
      "10            Satisfaction_Praise     45        0.01\n",
      "11          Recommendation_Praise     42        0.01\n",
      "12    Overall Satisfaction_Praise     35        0.01\n",
      "13                  Seller_Praise     34        0.01\n",
      "14                Purchase_Praise     32        0.01\n",
      "15               Packaging_Praise     30        0.00\n",
      "16        Customer Loyalty_Praise     28        0.00\n",
      "17     Product Performance_Praise     28        0.00\n",
      "18             Performance_Praise     27        0.00\n",
      "19    Store Recommendation_Praise     25        0.00\n",
      "issue\n",
      "                     category  count  percentage\n",
      "0              Delivery_Issue   1418        0.38\n",
      "1      Product Mismatch_Issue    424        0.11\n",
      "2       Product Quality_Issue    319        0.09\n",
      "3      Customer Service_Issue     93        0.02\n",
      "4        Product Damage_Issue     88        0.02\n",
      "5        Product Defect_Issue     81        0.02\n",
      "6             Packaging_Issue     67        0.02\n",
      "7               Product_Issue     66        0.02\n",
      "8     Product Condition_Issue     61        0.02\n",
      "9                 Order_Issue     56        0.02\n",
      "10              Quality_Issue     52        0.01\n",
      "11    Order Fulfillment_Issue     48        0.01\n",
      "12        Shipping Cost_Issue     41        0.01\n",
      "13   Order Cancellation_Issue     41        0.01\n",
      "14               Refund_Issue     36        0.01\n",
      "15         Product Size_Issue     33        0.01\n",
      "16  Product Performance_Issue     29        0.01\n",
      "17             Shipping_Issue     26        0.01\n",
      "18                Stock_Issue     22        0.01\n",
      "19     Order Incomplete_Issue     21        0.01\n"
     ]
    }
   ],
   "source": [
    "agg_fh_dict = agg_review_category_ratio_by_category_name(\n",
    "    fh_df_reviews_no_null,\n",
    "    fh_df_reviews_no_null[\"product_category_name_english\"].unique().tolist(),\n",
    ")"
   ]
  },
  {
   "cell_type": "code",
   "execution_count": 11,
   "metadata": {},
   "outputs": [],
   "source": [
    "agg_fh_dict[\"all\"].to_csv(config.results_agg_dir / \"fh_category_all.csv\", index=False)\n",
    "agg_fh_dict[\"praise\"].to_csv(\n",
    "    config.results_agg_dir / \"fh_category_praise.csv\", index=False\n",
    ")\n",
    "agg_fh_dict[\"issue\"].to_csv(\n",
    "    config.results_agg_dir / \"fh_category_issue.csv\", index=False\n",
    ")"
   ]
  },
  {
   "cell_type": "markdown",
   "metadata": {},
   "source": [
    "#### 後半"
   ]
  },
  {
   "cell_type": "code",
   "execution_count": 12,
   "metadata": {},
   "outputs": [
    {
     "name": "stdout",
     "output_type": "stream",
     "text": [
      "Praise Review num:10670\n",
      "Praise Issue num:8641\n",
      "Issue ratio:0.40\n",
      "全体\n",
      "                       category  count  percentage\n",
      "0               Delivery_Praise   4869        0.23\n",
      "1                Delivery_Issue   3805        0.18\n",
      "2                Unclassifiable   1998        0.09\n",
      "3        Product Quality_Praise   1533        0.07\n",
      "4                Product_Praise   1181        0.05\n",
      "5        Product Mismatch_Issue    932        0.04\n",
      "6         Product Quality_Issue    584        0.03\n",
      "7                Service_Praise    324        0.02\n",
      "8   Product Satisfaction_Praise    310        0.01\n",
      "9                Quality_Praise    291        0.01\n",
      "10      Customer Service_Praise    278        0.01\n",
      "11       Customer Service_Issue    260        0.01\n",
      "12                  Order_Issue    170        0.01\n",
      "13         Product Damage_Issue    158        0.01\n",
      "14                Product_Issue    150        0.01\n",
      "15              Packaging_Issue    148        0.01\n",
      "16         Product Defect_Issue    140        0.01\n",
      "17      Order Fulfillment_Issue    137        0.01\n",
      "18                       Praise    134        0.01\n",
      "19           Product Size_Issue    104        0.00\n",
      "praise\n",
      "                         category  count  percentage\n",
      "0                 Delivery_Praise   4869        0.46\n",
      "1          Product Quality_Praise   1533        0.14\n",
      "2                  Product_Praise   1181        0.11\n",
      "3                  Service_Praise    324        0.03\n",
      "4     Product Satisfaction_Praise    310        0.03\n",
      "5                  Quality_Praise    291        0.03\n",
      "6         Customer Service_Praise    278        0.03\n",
      "7                          Praise    134        0.01\n",
      "8   Product Recommendation_Praise     95        0.01\n",
      "9             Satisfaction_Praise     94        0.01\n",
      "10     Product Performance_Praise     87        0.01\n",
      "11                   Store_Praise     82        0.01\n",
      "12             Performance_Praise     79        0.01\n",
      "13          Recommendation_Praise     72        0.01\n",
      "14    Overall Satisfaction_Praise     52        0.00\n",
      "15               Packaging_Praise     51        0.00\n",
      "16     Shopping Experience_Praise     49        0.00\n",
      "17                  Seller_Praise     45        0.00\n",
      "18                   Value_Praise     44        0.00\n",
      "19    Store Recommendation_Praise     39        0.00\n",
      "issue\n",
      "                      category  count  percentage\n",
      "0               Delivery_Issue   3805        0.44\n",
      "1       Product Mismatch_Issue    932        0.11\n",
      "2        Product Quality_Issue    584        0.07\n",
      "3       Customer Service_Issue    260        0.03\n",
      "4                  Order_Issue    170        0.02\n",
      "5         Product Damage_Issue    158        0.02\n",
      "6                Product_Issue    150        0.02\n",
      "7              Packaging_Issue    148        0.02\n",
      "8         Product Defect_Issue    140        0.02\n",
      "9      Order Fulfillment_Issue    137        0.02\n",
      "10          Product Size_Issue    104        0.01\n",
      "11     Product Condition_Issue     92        0.01\n",
      "12               Quality_Issue     91        0.01\n",
      "13  Product Authenticity_Issue     72        0.01\n",
      "14              Shipping_Issue     68        0.01\n",
      "15                Refund_Issue     54        0.01\n",
      "16      Order Incomplete_Issue     52        0.01\n",
      "17    Order Cancellation_Issue     50        0.01\n",
      "18       Product Missing_Issue     50        0.01\n",
      "19         Shipping Cost_Issue     48        0.01\n"
     ]
    }
   ],
   "source": [
    "agg_sh_dict = agg_review_category_ratio_by_category_name(\n",
    "    sh_df_reviews_no_null,\n",
    "    sh_df_reviews_no_null[\"product_category_name_english\"].unique().tolist(),\n",
    ")"
   ]
  },
  {
   "cell_type": "code",
   "execution_count": 13,
   "metadata": {},
   "outputs": [],
   "source": [
    "agg_sh_dict[\"all\"].to_csv(config.results_agg_dir / \"sh_category_all.csv\", index=False)\n",
    "agg_sh_dict[\"praise\"].to_csv(\n",
    "    config.results_agg_dir / \"sh_category_praise.csv\", index=False\n",
    ")\n",
    "agg_sh_dict[\"issue\"].to_csv(\n",
    "    config.results_agg_dir / \"sh_category_issue.csv\", index=False\n",
    ")"
   ]
  },
  {
   "cell_type": "markdown",
   "metadata": {},
   "source": [
    "### 成長率が鈍化している種類に限定したらどう？　→ 全体傾向と変わらない"
   ]
  },
  {
   "cell_type": "code",
   "execution_count": 14,
   "metadata": {},
   "outputs": [],
   "source": [
    "low_growth_categories = [\n",
    "    \"watches_gifts\",\n",
    "    \"cool_stuff\",\n",
    "    \"toys\",\n",
    "    \"sports_leisure\",\n",
    "    \"bed_bath_table\",\n",
    "    \"computers_accessories\",\n",
    "]"
   ]
  },
  {
   "cell_type": "markdown",
   "metadata": {},
   "source": [
    "### 全体"
   ]
  },
  {
   "cell_type": "code",
   "execution_count": 15,
   "metadata": {},
   "outputs": [
    {
     "name": "stdout",
     "output_type": "stream",
     "text": [
      "Praise Review num:7790\n",
      "Praise Issue num:5765\n",
      "Issue ratio:0.38\n",
      "全体\n",
      "                         category  count  percentage\n",
      "0                 Delivery_Praise   3472        0.23\n",
      "1                  Delivery_Issue   2397        0.16\n",
      "2                  Unclassifiable   1484        0.10\n",
      "3          Product Quality_Praise   1148        0.08\n",
      "4                  Product_Praise    922        0.06\n",
      "5          Product Mismatch_Issue    679        0.04\n",
      "6           Product Quality_Issue    450        0.03\n",
      "7     Product Satisfaction_Praise    224        0.01\n",
      "8                  Service_Praise    222        0.01\n",
      "9                  Quality_Praise    217        0.01\n",
      "10        Customer Service_Praise    212        0.01\n",
      "11         Customer Service_Issue    180        0.01\n",
      "12           Product Defect_Issue    111        0.01\n",
      "13                Packaging_Issue    110        0.01\n",
      "14                    Order_Issue    108        0.01\n",
      "15                  Product_Issue    106        0.01\n",
      "16                         Praise    102        0.01\n",
      "17                  Quality_Issue     89        0.01\n",
      "18  Product Recommendation_Praise     77        0.01\n",
      "19        Order Fulfillment_Issue     75        0.00\n",
      "praise\n",
      "                         category  count  percentage\n",
      "0                 Delivery_Praise   3472        0.45\n",
      "1          Product Quality_Praise   1148        0.15\n",
      "2                  Product_Praise    922        0.12\n",
      "3     Product Satisfaction_Praise    224        0.03\n",
      "4                  Service_Praise    222        0.03\n",
      "5                  Quality_Praise    217        0.03\n",
      "6         Customer Service_Praise    212        0.03\n",
      "7                          Praise    102        0.01\n",
      "8   Product Recommendation_Praise     77        0.01\n",
      "9             Satisfaction_Praise     68        0.01\n",
      "10                   Store_Praise     65        0.01\n",
      "11          Recommendation_Praise     61        0.01\n",
      "12             Performance_Praise     56        0.01\n",
      "13     Product Performance_Praise     49        0.01\n",
      "14    Overall Satisfaction_Praise     37        0.00\n",
      "15                  Seller_Praise     37        0.00\n",
      "16     Shopping Experience_Praise     37        0.00\n",
      "17                   Value_Praise     31        0.00\n",
      "18               Packaging_Praise     28        0.00\n",
      "19                Purchase_Praise     27        0.00\n",
      "issue\n",
      "                      category  count  percentage\n",
      "0               Delivery_Issue   2397        0.42\n",
      "1       Product Mismatch_Issue    679        0.12\n",
      "2        Product Quality_Issue    450        0.08\n",
      "3       Customer Service_Issue    180        0.03\n",
      "4         Product Defect_Issue    111        0.02\n",
      "5              Packaging_Issue    110        0.02\n",
      "6                  Order_Issue    108        0.02\n",
      "7                Product_Issue    106        0.02\n",
      "8                Quality_Issue     89        0.02\n",
      "9      Order Fulfillment_Issue     75        0.01\n",
      "10          Product Size_Issue     69        0.01\n",
      "11        Product Damage_Issue     67        0.01\n",
      "12     Product Condition_Issue     60        0.01\n",
      "13  Product Authenticity_Issue     52        0.01\n",
      "14         Shipping Cost_Issue     48        0.01\n",
      "15      Order Incomplete_Issue     43        0.01\n",
      "16               Invoice_Issue     38        0.01\n",
      "17       Product Missing_Issue     36        0.01\n",
      "18                Refund_Issue     35        0.01\n",
      "19   Product Performance_Issue     34        0.01\n"
     ]
    }
   ],
   "source": [
    "agg_dict_low_growth = agg_review_category_ratio_by_category_name(\n",
    "    df_review_no_null,\n",
    "    low_growth_categories,\n",
    ")\n",
    "agg_dict_low_growth[\"all\"].to_csv(\n",
    "    config.results_agg_dir / \"low_growth_category_all.csv\", index=False\n",
    ")\n",
    "agg_dict_low_growth[\"praise\"].to_csv(\n",
    "    config.results_agg_dir / \"low_growth_category_praise.csv\", index=False\n",
    ")\n",
    "agg_dict_low_growth[\"issue\"].to_csv(\n",
    "    config.results_agg_dir / \"low_growth_category_issue.csv\", index=False\n",
    ")"
   ]
  },
  {
   "cell_type": "markdown",
   "metadata": {},
   "source": [
    "#### 前半"
   ]
  },
  {
   "cell_type": "code",
   "execution_count": 16,
   "metadata": {},
   "outputs": [
    {
     "name": "stdout",
     "output_type": "stream",
     "text": [
      "Praise Review num:2384\n",
      "Praise Issue num:1283\n",
      "Issue ratio:0.31\n",
      "全体\n",
      "                         category  count  percentage\n",
      "0                 Delivery_Praise   1053        0.25\n",
      "1                  Delivery_Issue    470        0.11\n",
      "2                  Unclassifiable    420        0.10\n",
      "3          Product Quality_Praise    342        0.08\n",
      "4                  Product_Praise    295        0.07\n",
      "5          Product Mismatch_Issue    155        0.04\n",
      "6           Product Quality_Issue    111        0.03\n",
      "7     Product Satisfaction_Praise     70        0.02\n",
      "8         Customer Service_Praise     63        0.02\n",
      "9                  Service_Praise     63        0.02\n",
      "10                 Quality_Praise     63        0.02\n",
      "11                         Praise     35        0.01\n",
      "12         Customer Service_Issue     33        0.01\n",
      "13  Product Recommendation_Praise     33        0.01\n",
      "14                  Quality_Issue     31        0.01\n",
      "15                   Store_Praise     30        0.01\n",
      "16                Packaging_Issue     29        0.01\n",
      "17           Product Defect_Issue     29        0.01\n",
      "18                  Product_Issue     26        0.01\n",
      "19        Product Condition_Issue     20        0.00\n",
      "praise\n",
      "                                  category  count  percentage\n",
      "0                          Delivery_Praise   1053        0.44\n",
      "1                   Product Quality_Praise    342        0.14\n",
      "2                           Product_Praise    295        0.12\n",
      "3              Product Satisfaction_Praise     70        0.03\n",
      "4                           Service_Praise     63        0.03\n",
      "5                  Customer Service_Praise     63        0.03\n",
      "6                           Quality_Praise     63        0.03\n",
      "7                                   Praise     35        0.01\n",
      "8            Product Recommendation_Praise     33        0.01\n",
      "9                             Store_Praise     30        0.01\n",
      "10                   Recommendation_Praise     17        0.01\n",
      "11                         Purchase_Praise     16        0.01\n",
      "12                     Satisfaction_Praise     16        0.01\n",
      "13             Overall Satisfaction_Praise     14        0.01\n",
      "14                           Seller_Praise     14        0.01\n",
      "15                      Performance_Praise     13        0.01\n",
      "16                        Packaging_Praise     13        0.01\n",
      "17              Product Performance_Praise      9        0.00\n",
      "18  Delivery_Praise_Product Quality_Praise      9        0.00\n",
      "19                 Customer Loyalty_Praise      9        0.00\n",
      "issue\n",
      "                      category  count  percentage\n",
      "0               Delivery_Issue    470        0.37\n",
      "1       Product Mismatch_Issue    155        0.12\n",
      "2        Product Quality_Issue    111        0.09\n",
      "3       Customer Service_Issue     33        0.03\n",
      "4                Quality_Issue     31        0.02\n",
      "5              Packaging_Issue     29        0.02\n",
      "6         Product Defect_Issue     29        0.02\n",
      "7                Product_Issue     26        0.02\n",
      "8      Product Condition_Issue     20        0.02\n",
      "9      Order Fulfillment_Issue     17        0.01\n",
      "10         Shipping Cost_Issue     16        0.01\n",
      "11                 Order_Issue     15        0.01\n",
      "12        Product Damage_Issue     15        0.01\n",
      "13                Refund_Issue     13        0.01\n",
      "14          Product Size_Issue     12        0.01\n",
      "15               Invoice_Issue     10        0.01\n",
      "16           Performance_Issue      9        0.01\n",
      "17  Product Authenticity_Issue      8        0.01\n",
      "18    Order Cancellation_Issue      8        0.01\n",
      "19       Product Missing_Issue      7        0.01\n"
     ]
    }
   ],
   "source": [
    "agg_dict_low_growth_fh = agg_review_category_ratio_by_category_name(\n",
    "    fh_df_reviews_no_null,\n",
    "    low_growth_categories,\n",
    ")\n",
    "agg_dict_low_growth_fh[\"all\"].to_csv(\n",
    "    config.results_agg_dir / \"low_growth_fh_category_all.csv\", index=False\n",
    ")\n",
    "agg_dict_low_growth_fh[\"praise\"].to_csv(\n",
    "    config.results_agg_dir / \"low_growth_fh_category_praise.csv\", index=False\n",
    ")\n",
    "agg_dict_low_growth_fh[\"issue\"].to_csv(\n",
    "    config.results_agg_dir / \"low_growth_fh_category_issue.csv\", index=False\n",
    ")"
   ]
  },
  {
   "cell_type": "code",
   "execution_count": 17,
   "metadata": {},
   "outputs": [
    {
     "name": "stdout",
     "output_type": "stream",
     "text": [
      "Praise Review num:3921\n",
      "Praise Issue num:3369\n",
      "Issue ratio:0.41\n",
      "全体\n",
      "                       category  count  percentage\n",
      "0               Delivery_Praise   1743        0.21\n",
      "1                Delivery_Issue   1473        0.18\n",
      "2                Unclassifiable    765        0.09\n",
      "3        Product Quality_Praise    596        0.07\n",
      "4                Product_Praise    461        0.06\n",
      "5        Product Mismatch_Issue    408        0.05\n",
      "6         Product Quality_Issue    261        0.03\n",
      "7                Service_Praise    118        0.01\n",
      "8                Quality_Praise    115        0.01\n",
      "9   Product Satisfaction_Praise    106        0.01\n",
      "10       Customer Service_Issue    103        0.01\n",
      "11      Customer Service_Praise    102        0.01\n",
      "12                  Order_Issue     74        0.01\n",
      "13              Packaging_Issue     64        0.01\n",
      "14                Product_Issue     57        0.01\n",
      "15         Product Defect_Issue     55        0.01\n",
      "16                       Praise     46        0.01\n",
      "17                Quality_Issue     46        0.01\n",
      "18           Product Size_Issue     42        0.01\n",
      "19      Order Fulfillment_Issue     41        0.01\n",
      "praise\n",
      "                                  category  count  percentage\n",
      "0                          Delivery_Praise   1743        0.44\n",
      "1                   Product Quality_Praise    596        0.15\n",
      "2                           Product_Praise    461        0.12\n",
      "3                           Service_Praise    118        0.03\n",
      "4                           Quality_Praise    115        0.03\n",
      "5              Product Satisfaction_Praise    106        0.03\n",
      "6                  Customer Service_Praise    102        0.03\n",
      "7                                   Praise     46        0.01\n",
      "8                      Satisfaction_Praise     34        0.01\n",
      "9                       Performance_Praise     34        0.01\n",
      "10                   Recommendation_Praise     33        0.01\n",
      "11           Product Recommendation_Praise     31        0.01\n",
      "12              Product Performance_Praise     29        0.01\n",
      "13                            Store_Praise     25        0.01\n",
      "14              Shopping Experience_Praise     23        0.01\n",
      "15                            Value_Praise     18        0.00\n",
      "16             Overall Satisfaction_Praise     17        0.00\n",
      "17                Product Condition_Praise     16        0.00\n",
      "18                           Seller_Praise     15        0.00\n",
      "19  Product Quality_Praise_Delivery_Praise     14        0.00\n",
      "issue\n",
      "                      category  count  percentage\n",
      "0               Delivery_Issue   1473        0.44\n",
      "1       Product Mismatch_Issue    408        0.12\n",
      "2        Product Quality_Issue    261        0.08\n",
      "3       Customer Service_Issue    103        0.03\n",
      "4                  Order_Issue     74        0.02\n",
      "5              Packaging_Issue     64        0.02\n",
      "6                Product_Issue     57        0.02\n",
      "7         Product Defect_Issue     55        0.02\n",
      "8                Quality_Issue     46        0.01\n",
      "9           Product Size_Issue     42        0.01\n",
      "10     Order Fulfillment_Issue     41        0.01\n",
      "11  Product Authenticity_Issue     38        0.01\n",
      "12        Product Damage_Issue     38        0.01\n",
      "13     Product Condition_Issue     31        0.01\n",
      "14      Order Incomplete_Issue     21        0.01\n",
      "15   Product Performance_Issue     19        0.01\n",
      "16                Refund_Issue     19        0.01\n",
      "17         Shipping Cost_Issue     18        0.01\n",
      "18       Product Missing_Issue     17        0.01\n",
      "19               Invoice_Issue     17        0.01\n"
     ]
    }
   ],
   "source": [
    "agg_dict_low_growth_sh = agg_review_category_ratio_by_category_name(\n",
    "    sh_df_reviews_no_null,\n",
    "    low_growth_categories,\n",
    ")\n",
    "agg_dict_low_growth_sh[\"all\"].to_csv(\n",
    "    config.results_agg_dir / \"low_growth_sh_category_all.csv\", index=False\n",
    ")\n",
    "agg_dict_low_growth_sh[\"praise\"].to_csv(\n",
    "    config.results_agg_dir / \"low_growth_sh_category_praise.csv\", index=False\n",
    ")\n",
    "agg_dict_low_growth_sh[\"issue\"].to_csv(\n",
    "    config.results_agg_dir / \"low_growth_sh_category_issue.csv\", index=False\n",
    ")\n"
   ]
  }
 ],
 "metadata": {
  "kernelspec": {
   "display_name": ".venv",
   "language": "python",
   "name": "python3"
  },
  "language_info": {
   "codemirror_mode": {
    "name": "ipython",
    "version": 3
   },
   "file_extension": ".py",
   "mimetype": "text/x-python",
   "name": "python",
   "nbconvert_exporter": "python",
   "pygments_lexer": "ipython3",
   "version": "3.11.10"
  }
 },
 "nbformat": 4,
 "nbformat_minor": 2
}
