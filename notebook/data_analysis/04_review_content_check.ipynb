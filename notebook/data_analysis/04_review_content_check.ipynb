{
 "cells": [
  {
   "cell_type": "code",
   "execution_count": 22,
   "metadata": {},
   "outputs": [
    {
     "name": "stdout",
     "output_type": "stream",
     "text": [
      "The autoreload extension is already loaded. To reload it, use:\n",
      "  %reload_ext autoreload\n",
      "CPU times: user 1.16 ms, sys: 3.02 ms, total: 4.18 ms\n",
      "Wall time: 5.79 ms\n"
     ]
    }
   ],
   "source": [
    "%%time\n",
    "%matplotlib inline\n",
    "%load_ext autoreload\n",
    "%autoreload 2\n",
    "\n",
    "import sys\n",
    "from dataclasses import dataclass\n",
    "from itertools import combinations\n",
    "from pathlib import Path\n",
    "\n",
    "import pandas as pd\n",
    "\n",
    "\n",
    "@dataclass\n",
    "class Config:\n",
    "    project_dir: Path = Path(\"../../\")\n",
    "    model_dir: Path = project_dir / \"models\"\n",
    "    outputs_dir: Path = project_dir / \"outputs\"\n",
    "    results_dir: Path = project_dir / \"results\"\n",
    "    results_agg_dir: Path = results_dir / \"agg\"\n",
    "    results_figs_dir: Path = results_dir / \"figs\"\n",
    "    data_dir: Path = project_dir / \"data\"\n",
    "    raw_dir: Path = data_dir / \"raw\"\n",
    "    interim_dir: Path = data_dir / \"interim\"\n",
    "    processed_dir: Path = data_dir / \"processed\"\n",
    "\n",
    "\n",
    "config = Config()\n",
    "sys.path.append(str(config.project_dir.resolve()))"
   ]
  },
  {
   "cell_type": "code",
   "execution_count": 3,
   "metadata": {},
   "outputs": [
    {
     "name": "stdout",
     "output_type": "stream",
     "text": [
      "df_review_no_null.shape: (40818, 90)\n"
     ]
    }
   ],
   "source": [
    "df_order_info_details = pd.read_csv(config.processed_dir / \"order_info_details.csv\")\n",
    "df_reviews = pd.read_csv(\n",
    "    config.interim_dir\n",
    "    / \"olist_order_reviews_translated_label_review_categories_merged.csv\",\n",
    ")\n",
    "df_reviews_last = df_reviews.groupby(\"order_id\").last().reset_index()\n",
    "df_order_info_details_reviews_merged = pd.merge(\n",
    "    df_order_info_details, df_reviews_last, on=\"order_id\", how=\"left\"\n",
    ")\n",
    "assert df_order_info_details_reviews_merged.shape[0] == df_order_info_details.shape[0]\n",
    "\n",
    "df_review_no_null = df_order_info_details_reviews_merged.dropna(\n",
    "    subset=[\"review_comment_message_en\"]\n",
    ")\n",
    "print(f\"df_review_no_null.shape: {df_review_no_null.shape}\")\n"
   ]
  },
  {
   "cell_type": "code",
   "execution_count": 21,
   "metadata": {},
   "outputs": [
    {
     "name": "stdout",
     "output_type": "stream",
     "text": [
      "上位30件の3単語共起:\n",
      "    index    Word 1    Word 2    Word 3  Frequency\n",
      "0    1309       not   product   receive        848\n",
      "1    1429   deliver       not   product        653\n",
      "2    2335    arrive       not   product        318\n",
      "3    1770    office      post   product        275\n",
      "4    1279  delivery       not   product        268\n",
      "5    1430       buy   product   receive        263\n",
      "6    3296  delivery   product   receive        253\n",
      "7    1432   deliver   product   receive        217\n",
      "8    1787    office      pick      post        213\n",
      "9    1782       not    office      post        211\n",
      "10   1483   deliver       not   receive        205\n",
      "11   1427       buy       not   product        196\n",
      "12   1788   deliver    office      post        181\n",
      "13   3309  delivery       not   receive        178\n",
      "14   1481       buy       not   receive        172\n",
      "15   4053   product  purchase   receive        165\n",
      "16   1278       not   product     store        163\n",
      "17   1624       not   product  purchase        160\n",
      "18   2368   deliver  delivery   product        160\n",
      "19   1328       buy   deliver   product        159\n",
      "20   3386    arrive       buy   product        156\n",
      "21   7157    arrive  delivery   product        156\n",
      "22   5000  delivery    office      post        153\n",
      "23   1994    office      post   receive        151\n",
      "24   3544      long      take      time        150\n",
      "25   4613  deadline  delivery   product        148\n",
      "26   3071   product   receive     store        147\n",
      "27   2505       not   product      time        147\n",
      "28    630       not  purchase   receive        145\n",
      "29  10555  deadline       not   product        144\n"
     ]
    }
   ],
   "source": [
    "delivery_issues = df_review_no_null.query(\"review_categories_str == 'Delivery_Issue'\")\n",
    "word_lists = []\n",
    "for words_str in delivery_issues[\"meaningful_words\"]:\n",
    "    words_list = words_str.strip(\"[]\").replace(\"'\", \"\").split(\", \")\n",
    "    words_list = [w for w in words_list if w]\n",
    "    word_lists.append(words_list)\n",
    "\n",
    "trigram_counts = {}\n",
    "for words in word_lists:\n",
    "    for triple in combinations(set(words), 3):\n",
    "        triple = tuple(sorted(triple))\n",
    "        trigram_counts[triple] = trigram_counts.get(triple, 0) + 1\n",
    "\n",
    "# 結果をDataFrameに変換\n",
    "trigram_df = pd.DataFrame(\n",
    "    [\n",
    "        {\"Word 1\": t[0], \"Word 2\": t[1], \"Word 3\": t[2], \"Frequency\": count}\n",
    "        for t, count in trigram_counts.items()\n",
    "    ]\n",
    ")\n",
    "\n",
    "trigram_df = trigram_df.sort_values(\"Frequency\", ascending=False).reset_index()\n"
   ]
  },
  {
   "cell_type": "code",
   "execution_count": null,
   "metadata": {},
   "outputs": [],
   "source": []
  }
 ],
 "metadata": {
  "kernelspec": {
   "display_name": ".venv",
   "language": "python",
   "name": "python3"
  },
  "language_info": {
   "codemirror_mode": {
    "name": "ipython",
    "version": 3
   },
   "file_extension": ".py",
   "mimetype": "text/x-python",
   "name": "python",
   "nbconvert_exporter": "python",
   "pygments_lexer": "ipython3",
   "version": "3.11.10"
  }
 },
 "nbformat": 4,
 "nbformat_minor": 2
}
