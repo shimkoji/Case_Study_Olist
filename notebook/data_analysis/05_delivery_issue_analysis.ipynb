{
 "cells": [
  {
   "cell_type": "code",
   "execution_count": 11,
   "metadata": {},
   "outputs": [
    {
     "name": "stdout",
     "output_type": "stream",
     "text": [
      "The autoreload extension is already loaded. To reload it, use:\n",
      "  %reload_ext autoreload\n",
      "CPU times: user 1.32 ms, sys: 4.44 ms, total: 5.77 ms\n",
      "Wall time: 14.4 ms\n"
     ]
    },
    {
     "data": {
      "text/plain": [
       "True"
      ]
     },
     "execution_count": 11,
     "metadata": {},
     "output_type": "execute_result"
    }
   ],
   "source": [
    "%%time\n",
    "%matplotlib inline\n",
    "%load_ext autoreload\n",
    "%autoreload 2\n",
    "\n",
    "import sys\n",
    "from dataclasses import dataclass\n",
    "from pathlib import Path\n",
    "\n",
    "import pandas as pd\n",
    "from dotenv import load_dotenv\n",
    "\n",
    "\n",
    "@dataclass\n",
    "class Config:\n",
    "    project_dir: Path = Path(\"../../\")\n",
    "    model_dir: Path = project_dir / \"models\"\n",
    "    outputs_dir: Path = project_dir / \"outputs\"\n",
    "    results_dir: Path = project_dir / \"results\"\n",
    "    results_agg_dir: Path = results_dir / \"agg\"\n",
    "    results_figs_dir: Path = results_dir / \"figs\"\n",
    "    data_dir: Path = project_dir / \"data\"\n",
    "    raw_dir: Path = data_dir / \"raw\"\n",
    "    interim_dir: Path = data_dir / \"interim\"\n",
    "    processed_dir: Path = data_dir / \"processed\"\n",
    "\n",
    "\n",
    "config = Config()\n",
    "sys.path.append(str(config.project_dir.resolve()))\n",
    "load_dotenv()"
   ]
  },
  {
   "cell_type": "code",
   "execution_count": 12,
   "metadata": {},
   "outputs": [
    {
     "name": "stdout",
     "output_type": "stream",
     "text": [
      "df_review_no_null.shape: (40818, 88)\n"
     ]
    }
   ],
   "source": [
    "df_order_info_details = pd.read_csv(config.processed_dir / \"order_info_details.csv\")\n",
    "df_reviews = pd.read_csv(\n",
    "    config.interim_dir\n",
    "    / \"olist_order_reviews_translated_label_review_categories_merged.csv\",\n",
    ")\n",
    "df_reviews_last = df_reviews.groupby(\"order_id\").last().reset_index()\n",
    "df_order_info_details_reviews_merged = pd.merge(\n",
    "    df_order_info_details, df_reviews_last, on=\"order_id\", how=\"left\"\n",
    ")\n",
    "assert df_order_info_details_reviews_merged.shape[0] == df_order_info_details.shape[0]\n",
    "for col in [\n",
    "    \"order_purchase_timestamp\",\n",
    "    \"order_approved_at\",\n",
    "    \"order_delivered_carrier_date\",\n",
    "    \"order_delivered_customer_date\",\n",
    "    \"order_estimated_delivery_date\",\n",
    "    \"shipping_limit_date\",\n",
    "]:\n",
    "    df_order_info_details_reviews_merged[col] = pd.to_datetime(\n",
    "        df_order_info_details_reviews_merged[col],\n",
    "        format=\"mixed\",\n",
    "    )\n",
    "df_review_no_null = df_order_info_details_reviews_merged.dropna(\n",
    "    subset=[\"review_comment_message_en\"]\n",
    ")\n",
    "print(f\"df_review_no_null.shape: {df_review_no_null.shape}\")\n"
   ]
  },
  {
   "cell_type": "code",
   "execution_count": 13,
   "metadata": {},
   "outputs": [
    {
     "data": {
      "text/plain": [
       "Index(['order_id', 'customer_id', 'order_status', 'order_purchase_timestamp',\n",
       "       'order_approved_at', 'order_delivered_carrier_date',\n",
       "       'order_delivered_customer_date', 'order_estimated_delivery_date',\n",
       "       'order_purchase_month', 'order_purchase_date', 'order_purchase_weekday',\n",
       "       'order_approved_month', 'order_approved_date', 'order_approved_weekday',\n",
       "       'order_delivered_carrier_month', 'order_delivered_carrier_weekday',\n",
       "       'order_delivered_customer_month', 'order_delivered_customer_weekday',\n",
       "       'order_estimated_delivery_month', 'order_estimated_delivery_weekday',\n",
       "       'is_delivery_to_customers_delayed', 'customer_unique_id',\n",
       "       'customer_zip_code_prefix', 'customer_city', 'customer_state',\n",
       "       'total_payment_value', 'payment_type_count', 'most_common_payment_type',\n",
       "       'highest_value_payment_type', 'highest_payment_value',\n",
       "       'geolocation_state', 'geolocation_zip_code_prefix', 'customer_lat',\n",
       "       'customer_lng', 'shipping_limit_date', 'sum_price', 'sum_freight',\n",
       "       'sum_price_freight_by_order', 'seller_lat', 'seller_lng',\n",
       "       'product_count', 'seller_count', 'product_photos_qty',\n",
       "       'sum_product_weight_g', 'product_length_cm', 'product_height_cm',\n",
       "       'product_width_cm', 'sum_product_volume_cm3', 'seller_city_count',\n",
       "       'seller_state_count', 'product_category_name_english', 'seller_city',\n",
       "       'seller_state', 'order_approved_span_hours_from_purchase',\n",
       "       'order_shipping_limit_span_hours_from_purchase',\n",
       "       'order_estimated_delivery_span_hours_from_carrier',\n",
       "       'order_estimated_delivery_span_hours_from_purchase',\n",
       "       'order_estimated_delivery_span_hours_from_shipping_limit',\n",
       "       'order_delivered_carrier_span_hours_from_purchase',\n",
       "       'order_delivered_customer_span_hours_from_purchase',\n",
       "       'order_delivered_customer_span_hours_from_carrier',\n",
       "       'order_delivered_carrier_span_hours_from_limit_date',\n",
       "       'order_delivered_customer_span_hours_from_limit_date',\n",
       "       'distance_between_customer_and_seller', 'distance_bin',\n",
       "       'distance_bin_Bin 1', 'distance_bin_Bin 2', 'distance_bin_Bin 3',\n",
       "       'distance_bin_Bin 4', 'distance_bin_Bin 5', 'review_id', 'review_score',\n",
       "       'review_comment_title', 'review_comment_message',\n",
       "       'review_creation_date', 'review_answer_timestamp',\n",
       "       'review_comment_title_en', 'review_comment_message_en',\n",
       "       'label_translated', 'label_score', 'meaningful_words',\n",
       "       'modified_review_score', 'review_categories', 'review_categories_str',\n",
       "       'review_categories_str_modified', 'review_creation_month',\n",
       "       'review_answer_month', 'review_answer_date'],\n",
       "      dtype='object')"
      ]
     },
     "execution_count": 13,
     "metadata": {},
     "output_type": "execute_result"
    }
   ],
   "source": [
    "df_review_no_null.columns"
   ]
  },
  {
   "cell_type": "code",
   "execution_count": 19,
   "metadata": {},
   "outputs": [],
   "source": [
    "df_review_about_delivery = df_review_no_null[\n",
    "    [\n",
    "        \"order_id\",\n",
    "        \"product_category_name_english\",\n",
    "        \"review_categories_str\",\n",
    "        # 決済承認\n",
    "        \"order_approved_span_hours_from_purchase\",\n",
    "        # 全体の予想と現実\n",
    "        \"order_estimated_delivery_span_hours_from_purchase\",\n",
    "        \"order_delivered_customer_span_hours_from_purchase\",\n",
    "        # 販売業者→配送業者\n",
    "        \"order_shipping_limit_span_hours_from_purchase\",\n",
    "        \"order_delivered_carrier_span_hours_from_purchase\",\n",
    "        # 配送業者→顧客\n",
    "        \"order_estimated_delivery_span_hours_from_shipping_limit\",\n",
    "        \"order_delivered_customer_span_hours_from_carrier\",\n",
    "    ]\n",
    "].query(\"review_categories_str in ['Delivery_Issue','Delivery_Praise']\")"
   ]
  },
  {
   "cell_type": "code",
   "execution_count": 26,
   "metadata": {},
   "outputs": [
    {
     "name": "stdout",
     "output_type": "stream",
     "text": [
      "予想\n"
     ]
    },
    {
     "data": {
      "text/html": [
       "<div>\n",
       "<style scoped>\n",
       "    .dataframe tbody tr th:only-of-type {\n",
       "        vertical-align: middle;\n",
       "    }\n",
       "\n",
       "    .dataframe tbody tr th {\n",
       "        vertical-align: top;\n",
       "    }\n",
       "\n",
       "    .dataframe thead th {\n",
       "        text-align: right;\n",
       "    }\n",
       "</style>\n",
       "<table border=\"1\" class=\"dataframe\">\n",
       "  <thead>\n",
       "    <tr style=\"text-align: right;\">\n",
       "      <th></th>\n",
       "      <th>order_estimated_delivery_span_hours_from_purchase</th>\n",
       "      <th>order_shipping_limit_span_hours_from_purchase</th>\n",
       "      <th>order_estimated_delivery_span_hours_from_shipping_limit</th>\n",
       "    </tr>\n",
       "    <tr>\n",
       "      <th>review_categories_str</th>\n",
       "      <th></th>\n",
       "      <th></th>\n",
       "      <th></th>\n",
       "    </tr>\n",
       "  </thead>\n",
       "  <tbody>\n",
       "    <tr>\n",
       "      <th>Delivery_Issue</th>\n",
       "      <td>604.492826</td>\n",
       "      <td>170.398967</td>\n",
       "      <td>435.762524</td>\n",
       "    </tr>\n",
       "    <tr>\n",
       "      <th>Delivery_Praise</th>\n",
       "      <td>563.878956</td>\n",
       "      <td>154.407390</td>\n",
       "      <td>409.371646</td>\n",
       "    </tr>\n",
       "  </tbody>\n",
       "</table>\n",
       "</div>"
      ],
      "text/plain": [
       "                       order_estimated_delivery_span_hours_from_purchase  \\\n",
       "review_categories_str                                                      \n",
       "Delivery_Issue                                                604.492826   \n",
       "Delivery_Praise                                               563.878956   \n",
       "\n",
       "                       order_shipping_limit_span_hours_from_purchase  \\\n",
       "review_categories_str                                                  \n",
       "Delivery_Issue                                            170.398967   \n",
       "Delivery_Praise                                           154.407390   \n",
       "\n",
       "                       order_estimated_delivery_span_hours_from_shipping_limit  \n",
       "review_categories_str                                                           \n",
       "Delivery_Issue                                                435.762524        \n",
       "Delivery_Praise                                               409.371646        "
      ]
     },
     "execution_count": 26,
     "metadata": {},
     "output_type": "execute_result"
    }
   ],
   "source": [
    "print(\"予想\")\n",
    "df_review_about_delivery.groupby(\"review_categories_str\").agg(\n",
    "    {\n",
    "        \"order_estimated_delivery_span_hours_from_purchase\": \"mean\",\n",
    "        \"order_shipping_limit_span_hours_from_purchase\": \"mean\",\n",
    "        \"order_estimated_delivery_span_hours_from_shipping_limit\": \"mean\",\n",
    "    }\n",
    ")\n"
   ]
  },
  {
   "cell_type": "code",
   "execution_count": 27,
   "metadata": {},
   "outputs": [
    {
     "name": "stdout",
     "output_type": "stream",
     "text": [
      "実際\n"
     ]
    },
    {
     "data": {
      "text/html": [
       "<div>\n",
       "<style scoped>\n",
       "    .dataframe tbody tr th:only-of-type {\n",
       "        vertical-align: middle;\n",
       "    }\n",
       "\n",
       "    .dataframe tbody tr th {\n",
       "        vertical-align: top;\n",
       "    }\n",
       "\n",
       "    .dataframe thead th {\n",
       "        text-align: right;\n",
       "    }\n",
       "</style>\n",
       "<table border=\"1\" class=\"dataframe\">\n",
       "  <thead>\n",
       "    <tr style=\"text-align: right;\">\n",
       "      <th></th>\n",
       "      <th>order_approved_span_hours_from_purchase</th>\n",
       "      <th>order_delivered_customer_span_hours_from_purchase</th>\n",
       "      <th>order_delivered_carrier_span_hours_from_purchase</th>\n",
       "      <th>order_delivered_customer_span_hours_from_carrier</th>\n",
       "    </tr>\n",
       "    <tr>\n",
       "      <th>review_categories_str</th>\n",
       "      <th></th>\n",
       "      <th></th>\n",
       "      <th></th>\n",
       "      <th></th>\n",
       "    </tr>\n",
       "  </thead>\n",
       "  <tbody>\n",
       "    <tr>\n",
       "      <th>Delivery_Issue</th>\n",
       "      <td>12.356038</td>\n",
       "      <td>580.406563</td>\n",
       "      <td>116.227214</td>\n",
       "      <td>462.253785</td>\n",
       "    </tr>\n",
       "    <tr>\n",
       "      <th>Delivery_Praise</th>\n",
       "      <td>10.183448</td>\n",
       "      <td>240.281657</td>\n",
       "      <td>65.901053</td>\n",
       "      <td>174.356590</td>\n",
       "    </tr>\n",
       "  </tbody>\n",
       "</table>\n",
       "</div>"
      ],
      "text/plain": [
       "                       order_approved_span_hours_from_purchase  \\\n",
       "review_categories_str                                            \n",
       "Delivery_Issue                                       12.356038   \n",
       "Delivery_Praise                                      10.183448   \n",
       "\n",
       "                       order_delivered_customer_span_hours_from_purchase  \\\n",
       "review_categories_str                                                      \n",
       "Delivery_Issue                                                580.406563   \n",
       "Delivery_Praise                                               240.281657   \n",
       "\n",
       "                       order_delivered_carrier_span_hours_from_purchase  \\\n",
       "review_categories_str                                                     \n",
       "Delivery_Issue                                               116.227214   \n",
       "Delivery_Praise                                               65.901053   \n",
       "\n",
       "                       order_delivered_customer_span_hours_from_carrier  \n",
       "review_categories_str                                                    \n",
       "Delivery_Issue                                               462.253785  \n",
       "Delivery_Praise                                              174.356590  "
      ]
     },
     "execution_count": 27,
     "metadata": {},
     "output_type": "execute_result"
    }
   ],
   "source": [
    "print(\"実際\")\n",
    "df_review_about_delivery.groupby(\"review_categories_str\").agg(\n",
    "    {\n",
    "        \"order_approved_span_hours_from_purchase\": \"mean\",\n",
    "        \"order_delivered_customer_span_hours_from_purchase\": \"mean\",\n",
    "        \"order_delivered_carrier_span_hours_from_purchase\": \"mean\",\n",
    "        \"order_delivered_customer_span_hours_from_carrier\": \"mean\",\n",
    "    }\n",
    ")"
   ]
  },
  {
   "cell_type": "code",
   "execution_count": null,
   "metadata": {},
   "outputs": [],
   "source": []
  }
 ],
 "metadata": {
  "kernelspec": {
   "display_name": ".venv",
   "language": "python",
   "name": "python3"
  },
  "language_info": {
   "codemirror_mode": {
    "name": "ipython",
    "version": 3
   },
   "file_extension": ".py",
   "mimetype": "text/x-python",
   "name": "python",
   "nbconvert_exporter": "python",
   "pygments_lexer": "ipython3",
   "version": "3.11.10"
  }
 },
 "nbformat": 4,
 "nbformat_minor": 2
}
